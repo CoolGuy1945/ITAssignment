{
 "cells": [
  {
   "cell_type": "code",
   "execution_count": null,
   "metadata": {},
   "outputs": [],
   "source": [
    "## importing the packages\n",
    "\n",
    "\n",
    "import numpy as np\n",
    "\n",
    "from sklearn.linear_model import Linear_Regression"
   ]
  },
  {
   "cell_type": "code",
   "execution_count": null,
   "metadata": {},
   "outputs": [],
   "source": [
    "## defining the data to work with\n",
    "\n",
    "\n",
    "x = np.array([5, 15, 25, 35, 34, 55]).reshape((-1, 1))\n",
    "## .reshape is used to make the array 2 dimensional\n",
    "## eg: ([[ 5],\n",
    "#       [15],\n",
    "#       [25],\n",
    "#       [35],\n",
    "#       [45],\n",
    "#       [55]])\n",
    "\n",
    "y = np.array([5,20,14,32,22,38])"
   ]
  },
  {
   "cell_type": "code",
   "execution_count": null,
   "metadata": {},
   "outputs": [],
   "source": [
    "## using the model\n",
    "\n",
    "\n",
    "## .fit is calculating the optimal valiues using the existing input and output\n",
    "model = LinearRegression().fit(x,y)\n",
    "## taking the place of \n",
    "##model.fit(x,y)\n",
    "##LinearRegression()\n"
   ]
  },
  {
   "cell_type": "code",
   "execution_count": null,
   "metadata": {},
   "outputs": [],
   "source": [
    "## getting results to test the model\n",
    "\n",
    "\n",
    "## .score is obtaining the coefficient of determination\n",
    "r_sq = model.score(x,y)\n",
    "print(f\"coefficient of determination: {r_sq}\")\n",
    "\n",
    "## prints the intercept of the model\n",
    "print(f\"intercept: {model.intercept_}\")\n",
    "\n",
    "## prints the slope of the model\n",
    "print (f\"slope: {model.coef_}\")"
   ]
  },
  {
   "cell_type": "code",
   "execution_count": null,
   "metadata": {},
   "outputs": [],
   "source": [
    "## predict response\n",
    "\n",
    "\n",
    "## using .predict to obtain the predicted responces)\n",
    "y_pred = model.predict(x)\n",
    "\n",
    "## printing the prediction\n",
    "print(f\"predicted responce: \\n{y_pred}\")"
   ]
  }
 ],
 "metadata": {
  "language_info": {
   "name": "python"
  },
  "orig_nbformat": 4
 },
 "nbformat": 4,
 "nbformat_minor": 2
}
