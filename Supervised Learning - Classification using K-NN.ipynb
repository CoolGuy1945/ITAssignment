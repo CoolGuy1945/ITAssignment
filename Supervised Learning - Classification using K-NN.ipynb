{
 "cells": [
  {
   "cell_type": "code",
   "execution_count": null,
   "metadata": {},
   "outputs": [],
   "source": [
    "## import\n",
    "\n",
    "\n",
    "import numpy as np\n",
    "import pandas as pd\n",
    "url = (\n",
    "     \"https://archive.ics.uci.edu/ml/machine-learning-databases\"\n",
    "     \"/abalone/abalone.data\"\n",
    ")\n",
    "abalone = pd.read_csv(url, header=None)\n"
   ]
  },
  {
   "cell_type": "code",
   "execution_count": null,
   "metadata": {},
   "outputs": [],
   "source": [
    "## computing algorithm\n",
    "\n",
    "\n",
    "## defining data points as vectors\n",
    "a = np.array([2, 2])\n",
    "\n",
    "b = np.array([4, 4])\n",
    "\n",
    "np.linalg.norm(a - b)"
   ]
  },
  {
   "cell_type": "code",
   "execution_count": null,
   "metadata": {},
   "outputs": [],
   "source": [
    "## using to make predictions\n",
    "\n",
    "\n",
    "## generates 2 objects that now contain data\n",
    "X = abalone.drop(\"Rings\", axis=1)\n",
    "\n",
    "X = X.values\n",
    "\n",
    "y = abalone[\"Rings\"]\n",
    "\n",
    "y = y.values"
   ]
  },
  {
   "cell_type": "code",
   "execution_count": null,
   "metadata": {},
   "outputs": [],
   "source": [
    "## computing the distances bewteen data\n",
    "\n",
    "\n",
    "## creating vector of differences\n",
    "distances = np.linalg.norm(X - new_data_point, axis=1)"
   ]
  },
  {
   "cell_type": "code",
   "execution_count": null,
   "metadata": {},
   "outputs": [],
   "source": [
    "## finding neighbors\n",
    "\n",
    "\n",
    "## tells you 3 closest neighbors to your new data point\n",
    "k = 3\n",
    "\n",
    "nearest_neighbor_ids = distances.argsort()[:k]\n",
    "\n",
    "nearest_neighbor_ids"
   ]
  },
  {
   "cell_type": "code",
   "execution_count": null,
   "metadata": {},
   "outputs": [],
   "source": [
    "## finding new datapoint\n",
    "\n",
    "\n",
    "## finding ground truths for 3 closest neighbors\n",
    "nearest_neighbor_rings = y[nearest_neighbor_ids]\n",
    "\n",
    "nearest_neighbor_rings\n"
   ]
  },
  {
   "cell_type": "code",
   "execution_count": null,
   "metadata": {},
   "outputs": [],
   "source": [
    "## Average for Regression\n",
    "\n",
    "\n",
    "## combining the multiple neighbors into one prediction\n",
    "prediction = nearest_neighbor_rings.mean()\n"
   ]
  }
 ],
 "metadata": {
  "language_info": {
   "name": "python"
  },
  "orig_nbformat": 4
 },
 "nbformat": 4,
 "nbformat_minor": 2
}
